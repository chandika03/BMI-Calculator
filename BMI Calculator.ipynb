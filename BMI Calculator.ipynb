{
 "cells": [
  {
   "cell_type": "code",
   "execution_count": 1,
   "id": "6b2359f0",
   "metadata": {},
   "outputs": [],
   "source": [
    "#BMI = (weight in pounds * 703)/(height in inches * height in inches)\n",
    "#1kg = 2.204 pounds"
   ]
  },
  {
   "cell_type": "code",
   "execution_count": 13,
   "id": "fa6bf27f",
   "metadata": {},
   "outputs": [
    {
     "name": "stdout",
     "output_type": "stream",
     "text": [
      "Enter your nameChandu\n",
      "Enter your weight in Kg:49\n",
      "Enter your height in inches:64.8\n",
      "107.99600000000001\n",
      "18.080606043286085\n"
     ]
    }
   ],
   "source": [
    "name = input(\"Enter your name\")\n",
    "weight = float(input(\"Enter your weight in Kg:\")) \n",
    "height = float(input(\"Enter your height in inches:\")) \n",
    "weight_in_pound = weight * 2.204 \n",
    "print(weight_in_pound)\n",
    "\n",
    "BMI = (weight_in_pound * 703)/(height*height)\n",
    "\n",
    "print(BMI)"
   ]
  },
  {
   "cell_type": "code",
   "execution_count": 14,
   "id": "fe69561c",
   "metadata": {},
   "outputs": [
    {
     "name": "stdout",
     "output_type": "stream",
     "text": [
      "Chandu is UNDERWEIGHT\n"
     ]
    }
   ],
   "source": [
    "if BMI>0:\n",
    "    if BMI<18.5:\n",
    "        print(name + \" is UNDERWEIGHT\")\n",
    "    elif BMI<=24.9:\n",
    "        print(name + \" is NORMAL WEIGHT\")\n",
    "    elif BMI<=29.9:\n",
    "        print(name + \" is OVERWEIGHT\")\n",
    "    elif BMI<=34.9:\n",
    "        print(name + \" is OBESE\")\n",
    "    elif BMI<=39.9:\n",
    "        print(name + \" is SEVERLY OBESE\")\n",
    "    elif BMI>40:\n",
    "        print(name + \" is OVER-MORBIDLY OBESE\")\n",
    "    else:\n",
    "        print(\"Enter valid input\")"
   ]
  },
  {
   "cell_type": "code",
   "execution_count": null,
   "id": "fbe7b45b",
   "metadata": {},
   "outputs": [],
   "source": []
  }
 ],
 "metadata": {
  "kernelspec": {
   "display_name": "Python 3 (ipykernel)",
   "language": "python",
   "name": "python3"
  },
  "language_info": {
   "codemirror_mode": {
    "name": "ipython",
    "version": 3
   },
   "file_extension": ".py",
   "mimetype": "text/x-python",
   "name": "python",
   "nbconvert_exporter": "python",
   "pygments_lexer": "ipython3",
   "version": "3.11.5"
  }
 },
 "nbformat": 4,
 "nbformat_minor": 5
}
